{
 "cells": [
  {
   "cell_type": "code",
   "execution_count": 1,
   "id": "e53ac1ca",
   "metadata": {},
   "outputs": [
    {
     "name": "stdout",
     "output_type": "stream",
     "text": [
      "Layer 1 output (ReLU): tensor([0.0000, 0.0000, 0.3193], grad_fn=<ReluBackward0>)\n",
      "Layer 2 output (Sigmoid): tensor([0.3141, 0.3314], grad_fn=<SigmoidBackward0>)\n",
      "Combined output (Tanh): tensor([0.3041, 0.3198], grad_fn=<TanhBackward0>)\n",
      "Final output (Linear): tensor([0.8656], grad_fn=<AddBackward0>)\n",
      "\n",
      "Gradients:\n",
      "∂output/∂x: tensor([-0.0899,  0.0761])\n",
      "∂output/∂w00: tensor([[ 0.0000,  0.0000, -0.1248],\n",
      "        [ 0.0000,  0.0000, -0.2497]])\n",
      "∂output/∂w10: tensor([[0.0000, 0.0000],\n",
      "        [0.0000, 0.0000],\n",
      "        [0.0361, 0.0243]])\n",
      "∂output/∂w20: tensor([[0.3041],\n",
      "        [0.3198]])\n"
     ]
    }
   ],
   "source": [
    "import torch\n",
    "\n",
    "class NeuralNet:\n",
    "    def __init__(self):\n",
    "        self.w00 = torch.randn(2, 3, requires_grad=True)\n",
    "        self.b00 = torch.randn(3, requires_grad=True)\n",
    "        self.w10 = torch.randn(3, 2, requires_grad=True)\n",
    "        self.b10 = torch.randn(2, requires_grad=True)\n",
    "        self.w20 = torch.randn(2, 1, requires_grad=True)\n",
    "        self.b20 = torch.randn(1, requires_grad=True)\n",
    "\n",
    "    def forward(self, x):\n",
    "        z1 = x @ self.w00 + self.b00\n",
    "        a1 = torch.relu(z1)\n",
    "        print(\"Layer 1 output (ReLU):\", a1)\n",
    "\n",
    "        z2 = a1 @ self.w10 + self.b10\n",
    "        a2 = torch.sigmoid(z2)\n",
    "        print(\"Layer 2 output (Sigmoid):\", a2)\n",
    "\n",
    "        combined = a1[:2] + a2\n",
    "        a3 = torch.tanh(combined)\n",
    "        print(\"Combined output (Tanh):\", a3)\n",
    "\n",
    "        output = a3 @ self.w20 + self.b20\n",
    "        print(\"Final output (Linear):\", output)\n",
    "\n",
    "        return output\n",
    "\n",
    "x = torch.tensor([1.0, 2.0], requires_grad=True)\n",
    "model = NeuralNet()\n",
    "output = model.forward(x)\n",
    "\n",
    "\n",
    "output.backward(torch.ones_like(output))\n",
    "\n",
    "print(\"\\nGradients:\")\n",
    "print(\"∂output/∂x:\", x.grad)\n",
    "print(\"∂output/∂w00:\", model.w00.grad)\n",
    "print(\"∂output/∂w10:\", model.w10.grad)\n",
    "print(\"∂output/∂w20:\", model.w20.grad)\n"
   ]
  }
 ],
 "metadata": {
  "kernelspec": {
   "display_name": "Python 3.10",
   "language": "python",
   "name": "myenv"
  },
  "language_info": {
   "codemirror_mode": {
    "name": "ipython",
    "version": 3
   },
   "file_extension": ".py",
   "mimetype": "text/x-python",
   "name": "python",
   "nbconvert_exporter": "python",
   "pygments_lexer": "ipython3",
   "version": "3.13.2"
  }
 },
 "nbformat": 4,
 "nbformat_minor": 5
}
